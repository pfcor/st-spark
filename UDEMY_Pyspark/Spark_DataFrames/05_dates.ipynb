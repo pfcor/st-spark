{
 "cells": [
  {
   "cell_type": "markdown",
   "metadata": {},
   "source": [
    "### dates"
   ]
  },
  {
   "cell_type": "code",
   "execution_count": 1,
   "metadata": {},
   "outputs": [],
   "source": [
    "app = 'dates'"
   ]
  },
  {
   "cell_type": "code",
   "execution_count": 2,
   "metadata": {},
   "outputs": [],
   "source": [
    "#finding spark\n",
    "import findspark\n",
    "findspark.init('/home/pfcor/spark-2.1.0-bin-hadoop2.7')\n",
    "\n",
    "# inti session\n",
    "from pyspark.sql import SparkSession\n",
    "spark = SparkSession.builder.appName(app).getOrCreate()"
   ]
  },
  {
   "cell_type": "markdown",
   "metadata": {},
   "source": [
    "<hr>"
   ]
  },
  {
   "cell_type": "code",
   "execution_count": 3,
   "metadata": {},
   "outputs": [],
   "source": [
    "df = spark.read.csv('appl_stock.csv', header=True, inferSchema=True)"
   ]
  },
  {
   "cell_type": "code",
   "execution_count": 5,
   "metadata": {},
   "outputs": [
    {
     "data": {
      "text/plain": [
       "[Row(Date=datetime.datetime(2010, 1, 4, 0, 0), Open=213.429998, High=214.499996, Low=212.38000099999996, Close=214.009998, Volume=123432400, Adj Close=27.727039)]"
      ]
     },
     "execution_count": 5,
     "metadata": {},
     "output_type": "execute_result"
    }
   ],
   "source": [
    "df.head(1)"
   ]
  },
  {
   "cell_type": "code",
   "execution_count": 6,
   "metadata": {},
   "outputs": [],
   "source": [
    "from pyspark.sql.functions import (dayofmonth, \n",
    "                                   hour, \n",
    "                                   dayofyear, \n",
    "                                   month, \n",
    "                                   year, \n",
    "                                   weekofyear, \n",
    "                                   format_number, \n",
    "                                   date_format)"
   ]
  },
  {
   "cell_type": "code",
   "execution_count": 9,
   "metadata": {},
   "outputs": [
    {
     "name": "stdout",
     "output_type": "stream",
     "text": [
      "+--------------------+----------------+-----------+----------+\n",
      "|                Date|dayofmonth(Date)|month(Date)|year(Date)|\n",
      "+--------------------+----------------+-----------+----------+\n",
      "|2010-01-04 00:00:...|               4|          1|      2010|\n",
      "|2010-01-05 00:00:...|               5|          1|      2010|\n",
      "|2010-01-06 00:00:...|               6|          1|      2010|\n",
      "|2010-01-07 00:00:...|               7|          1|      2010|\n",
      "|2010-01-08 00:00:...|               8|          1|      2010|\n",
      "|2010-01-11 00:00:...|              11|          1|      2010|\n",
      "|2010-01-12 00:00:...|              12|          1|      2010|\n",
      "|2010-01-13 00:00:...|              13|          1|      2010|\n",
      "|2010-01-14 00:00:...|              14|          1|      2010|\n",
      "|2010-01-15 00:00:...|              15|          1|      2010|\n",
      "|2010-01-19 00:00:...|              19|          1|      2010|\n",
      "|2010-01-20 00:00:...|              20|          1|      2010|\n",
      "|2010-01-21 00:00:...|              21|          1|      2010|\n",
      "|2010-01-22 00:00:...|              22|          1|      2010|\n",
      "|2010-01-25 00:00:...|              25|          1|      2010|\n",
      "|2010-01-26 00:00:...|              26|          1|      2010|\n",
      "|2010-01-27 00:00:...|              27|          1|      2010|\n",
      "|2010-01-28 00:00:...|              28|          1|      2010|\n",
      "|2010-01-29 00:00:...|              29|          1|      2010|\n",
      "|2010-02-01 00:00:...|               1|          2|      2010|\n",
      "+--------------------+----------------+-----------+----------+\n",
      "only showing top 20 rows\n",
      "\n"
     ]
    }
   ],
   "source": [
    "df.select(['Date', dayofmonth(df['Date']), month(df['Date']), year(df['Date'])]).show()"
   ]
  },
  {
   "cell_type": "code",
   "execution_count": 18,
   "metadata": {},
   "outputs": [
    {
     "name": "stdout",
     "output_type": "stream",
     "text": [
      "+----+-------------------+\n",
      "|Year|AverageClosingPrice|\n",
      "+----+-------------------+\n",
      "|2010|            259.842|\n",
      "|2011|            364.004|\n",
      "|2012|            576.050|\n",
      "|2013|            472.635|\n",
      "|2014|            295.402|\n",
      "|2015|            120.040|\n",
      "|2016|            104.604|\n",
      "+----+-------------------+\n",
      "\n"
     ]
    }
   ],
   "source": [
    "# average closing price per year\n",
    "df2 = df.withColumn('Year', year(df['Date']))\n",
    "df2 = df2.groupBy('Year').mean().select(['Year', 'avg(Close)'])\n",
    "df2 = df2.select(['Year', format_number('avg(Close)', 3)])\n",
    "df2 = df2.withColumnRenamed('format_number(avg(Close), 3)', 'AverageClosingPrice')\n",
    "df2 = df2.orderBy('Year')\n",
    "df2.show()"
   ]
  },
  {
   "cell_type": "code",
   "execution_count": null,
   "metadata": {},
   "outputs": [],
   "source": []
  }
 ],
 "metadata": {
  "kernelspec": {
   "display_name": "Python 3",
   "language": "python",
   "name": "python3"
  },
  "language_info": {
   "codemirror_mode": {
    "name": "ipython",
    "version": 3
   },
   "file_extension": ".py",
   "mimetype": "text/x-python",
   "name": "python",
   "nbconvert_exporter": "python",
   "pygments_lexer": "ipython3",
   "version": "3.5.2"
  }
 },
 "nbformat": 4,
 "nbformat_minor": 2
}
